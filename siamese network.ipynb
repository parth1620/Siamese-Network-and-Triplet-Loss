{
 "cells": [
  {
   "cell_type": "markdown",
   "metadata": {},
   "source": [
    "# Step-1 : Importing libraries and helper functions"
   ]
  },
  {
   "cell_type": "code",
   "execution_count": 1,
   "metadata": {},
   "outputs": [],
   "source": [
    "import tensorflow as tf\n",
    "from tensorflow import keras\n",
    "from tensorflow.keras.models import Model\n",
    "from tensorflow.keras.layers import Input,Dense,concatenate\n",
    "from tensorflow.keras.optimizers import Adam\n",
    "from tensorflow.keras.utils import plot_model\n",
    "from tensorflow.keras.datasets.mnist import load_data\n",
    "import matplotlib.pyplot as plt\n",
    "import numpy as np\n",
    "import random"
   ]
  },
  {
   "cell_type": "markdown",
   "metadata": {},
   "source": [
    "# Step-2 : Importing the Famous MNIST Handwritten data-set"
   ]
  },
  {
   "cell_type": "code",
   "execution_count": 2,
   "metadata": {},
   "outputs": [],
   "source": [
    "(x_train,y_train),(x_test,y_test) = load_data()"
   ]
  },
  {
   "cell_type": "code",
   "execution_count": 3,
   "metadata": {},
   "outputs": [
    {
     "data": {
      "text/plain": [
       "((60000, 28, 28), (10000, 28, 28))"
      ]
     },
     "execution_count": 3,
     "metadata": {},
     "output_type": "execute_result"
    }
   ],
   "source": [
    "x_train.shape,x_test.shape"
   ]
  },
  {
   "cell_type": "code",
   "execution_count": 4,
   "metadata": {},
   "outputs": [
    {
     "name": "stdout",
     "output_type": "stream",
     "text": [
      "(60000, 784)\n"
     ]
    }
   ],
   "source": [
    "x_train = np.reshape(x_train, (x_train.shape[0], 784))/255.\n",
    "x_test = np.reshape(x_test, (x_test.shape[0], 784))/255.\n",
    "print(x_train.shape)"
   ]
  },
  {
   "cell_type": "markdown",
   "metadata": {},
   "source": [
    "# Step-3 : Visualizing Triplets"
   ]
  },
  {
   "cell_type": "code",
   "execution_count": 5,
   "metadata": {},
   "outputs": [],
   "source": [
    "def plot_triplets(examples):\n",
    "    plt.figure(figsize=(6, 2))\n",
    "    for i in range(3):\n",
    "        plt.subplot(1, 3, 1 + i)\n",
    "        plt.imshow(np.reshape(examples[i], (28, 28)), cmap='binary')\n",
    "        plt.xticks([])\n",
    "        plt.yticks([y_train[i]])\n",
    "    plt.show()"
   ]
  },
  {
   "cell_type": "code",
   "execution_count": 6,
   "metadata": {},
   "outputs": [
    {
     "data": {
      "image/png": "[encoded data removed]",
      "text/plain": [
       "<Figure size 432x144 with 3 Axes>"
      ]
     },
     "metadata": {
      "needs_background": "light"
     },
     "output_type": "display_data"
    }
   ],
   "source": [
    "plot_triplets([x_train[0], x_train[1], x_train[2]])"
   ]
  },
  {
   "cell_type": "markdown",
   "metadata": {},
   "source": [
    "# Step-4 : Creating batch of triplet [Anchor,Positives,Negative]"
   ]
  },
  {
   "cell_type": "code",
   "execution_count": 7,
   "metadata": {},
   "outputs": [],
   "source": [
    "def create_batch(batch_size=256):\n",
    "    x_anchors = np.zeros((batch_size, 784))\n",
    "    x_positives = np.zeros((batch_size, 784))\n",
    "    x_negatives = np.zeros((batch_size, 784))\n",
    "    \n",
    "    for i in range(0, batch_size):\n",
    "        # We need to find an anchor, a positive example and a negative example\n",
    "        random_index = random.randint(0, x_train.shape[0] - 1)\n",
    "        x_anchor = x_train[random_index]\n",
    "        y = y_train[random_index]\n",
    "\n",
    "        indices_for_pos = np.squeeze(np.where(y_train == y))\n",
    "        indices_for_neg = np.squeeze(np.where(y_train != y))\n",
    "        \n",
    "        x_positive = x_train[indices_for_pos[random.randint(0, len(indices_for_pos) - 1)]]\n",
    "        x_negative = x_train[indices_for_neg[random.randint(0, len(indices_for_neg) - 1)]]\n",
    "        \n",
    "        x_anchors[i] = x_anchor\n",
    "        x_positives[i] = x_positive\n",
    "        x_negatives[i] = x_negative\n",
    "        \n",
    "    return [x_anchors, x_positives, x_negatives]"
   ]
  },
  {
   "cell_type": "code",
   "execution_count": 8,
   "metadata": {},
   "outputs": [
    {
     "data": {
      "image/png": "[encoded data removed]",
      "text/plain": [
       "<Figure size 432x144 with 3 Axes>"
      ]
     },
     "metadata": {
      "needs_background": "light"
     },
     "output_type": "display_data"
    },
    {
     "name": "stdout",
     "output_type": "stream",
     "text": [
      "(60000,)\n"
     ]
    }
   ],
   "source": [
    "examples = create_batch(1)\n",
    "plot_triplets(examples)\n",
    "print(y_train.shape)"
   ]
  },
  {
   "cell_type": "markdown",
   "metadata": {},
   "source": [
    "# Step-5 : Embedding Model"
   ]
  },
  {
   "cell_type": "code",
   "execution_count": 9,
   "metadata": {},
   "outputs": [],
   "source": [
    "emb_size = 64\n",
    "\n",
    "input_img = Input(shape = (784,))\n",
    "l1 = Dense(64,activation = 'relu')(input_img)\n",
    "l2 = Dense(emb_size,activation = 'sigmoid')(l1)\n",
    "\n",
    "embedding_model = Model(input_img,l2)\n"
   ]
  },
  {
   "cell_type": "code",
   "execution_count": 10,
   "metadata": {},
   "outputs": [
    {
     "name": "stdout",
     "output_type": "stream",
     "text": [
      "[0.5470849  0.5581019  0.5303294  0.42897078 0.5008388  0.49896953\n",
      " 0.5421109  0.5465979  0.5886614  0.50570047 0.48099917 0.53690434\n",
      " 0.5290624  0.52630883 0.49157286 0.53387743 0.34836528 0.5224821\n",
      " 0.55013824 0.5786736  0.59940284 0.59983236 0.48334238 0.4528636\n",
      " 0.55099624 0.51797235 0.5886673  0.40958127 0.53064394 0.534604\n",
      " 0.4747179  0.6166971  0.5809548  0.58763516 0.49495465 0.55083144\n",
      " 0.46090746 0.5669902  0.6158796  0.45422807 0.4744705  0.48243368\n",
      " 0.39773133 0.4625698  0.40386263 0.55074865 0.5680739  0.45313072\n",
      " 0.49444014 0.5964719  0.3846745  0.4585041  0.46120608 0.48489344\n",
      " 0.61778104 0.44632605 0.55523056 0.35045922 0.67026937 0.58681566\n",
      " 0.46421045 0.51758766 0.44203854 0.5393596 ]\n"
     ]
    }
   ],
   "source": [
    "example = np.expand_dims(x_train[0], axis=0)\n",
    "example_emb = embedding_model.predict(example)[0]\n",
    "\n",
    "print(example_emb)"
   ]
  },
  {
   "cell_type": "markdown",
   "metadata": {},
   "source": [
    "# Step-6 : Siamese Network"
   ]
  },
  {
   "cell_type": "code",
   "execution_count": 11,
   "metadata": {},
   "outputs": [
    {
     "name": "stdout",
     "output_type": "stream",
     "text": [
      "Model: \"model_1\"\n",
      "__________________________________________________________________________________________________\n",
      "Layer (type)                    Output Shape         Param #     Connected to                     \n",
      "==================================================================================================\n",
      "input_2 (InputLayer)            [(None, 784)]        0                                            \n",
      "__________________________________________________________________________________________________\n",
      "input_3 (InputLayer)            [(None, 784)]        0                                            \n",
      "__________________________________________________________________________________________________\n",
      "input_4 (InputLayer)            [(None, 784)]        0                                            \n",
      "__________________________________________________________________________________________________\n",
      "model (Model)                   (None, 64)           54400       input_2[0][0]                    \n",
      "                                                                 input_3[0][0]                    \n",
      "                                                                 input_4[0][0]                    \n",
      "__________________________________________________________________________________________________\n",
      "concatenate (Concatenate)       (None, 192)          0           model[1][0]                      \n",
      "                                                                 model[2][0]                      \n",
      "                                                                 model[3][0]                      \n",
      "==================================================================================================\n",
      "Total params: 54,400\n",
      "Trainable params: 54,400\n",
      "Non-trainable params: 0\n",
      "__________________________________________________________________________________________________\n"
     ]
    }
   ],
   "source": [
    "input_anchor = Input(shape = (784,))\n",
    "input_positive = Input(shape = (784,))\n",
    "input_negative = Input(shape = (784,))\n",
    "\n",
    "embedding_anchor = embedding_model(input_anchor)\n",
    "embedding_positive = embedding_model(input_positive)\n",
    "embedding_negative = embedding_model(input_negative)\n",
    "\n",
    "output = concatenate([embedding_anchor, embedding_positive, embedding_negative], axis=1)\n",
    "\n",
    "siamese_network = Model([input_anchor, input_positive, input_negative], output)\n",
    "siamese_network.summary()"
   ]
  },
  {
   "cell_type": "markdown",
   "metadata": {},
   "source": [
    "# Step-7 : Triplet Loss"
   ]
  },
  {
   "cell_type": "code",
   "execution_count": 12,
   "metadata": {},
   "outputs": [],
   "source": [
    "alpha = 0.2\n",
    "\n",
    "def triplet_loss(y_true, y_pred):\n",
    "    anchor, positive, negative = y_pred[:,:emb_size], y_pred[:,emb_size:2*emb_size], y_pred[:,2*emb_size:]\n",
    "    positive_dist = tf.reduce_mean(tf.square(anchor - positive), axis=1)\n",
    "    negative_dist = tf.reduce_mean(tf.square(anchor - negative), axis=1)\n",
    "    return tf.maximum(positive_dist - negative_dist + alpha, 0.)"
   ]
  },
  {
   "cell_type": "markdown",
   "metadata": {},
   "source": [
    "# Step-8 : Training Model"
   ]
  },
  {
   "cell_type": "code",
   "execution_count": 13,
   "metadata": {},
   "outputs": [
    {
     "name": "stdout",
     "output_type": "stream",
     "text": [
      "WARNING:tensorflow:sample_weight modes were coerced from\n",
      "  ...\n",
      "    to  \n",
      "  ['...']\n",
      "Train for 29 steps\n",
      "Epoch 1/10\n",
      "29/29 [==============================] - 24s 817ms/step - loss: 0.1595\n",
      "Epoch 2/10\n",
      "29/29 [==============================] - 21s 736ms/step - loss: 0.0731\n",
      "Epoch 3/10\n",
      "29/29 [==============================] - 22s 760ms/step - loss: 0.0544\n",
      "Epoch 4/10\n",
      "29/29 [==============================] - 27s 925ms/step - loss: 0.0483\n",
      "Epoch 5/10\n",
      "29/29 [==============================] - 24s 813ms/step - loss: 0.0439\n",
      "Epoch 6/10\n",
      "29/29 [==============================] - 29s 983ms/step - loss: 0.0406\n",
      "Epoch 7/10\n",
      "29/29 [==============================] - 25s 854ms/step - loss: 0.0372\n",
      "Epoch 8/10\n",
      "29/29 [==============================] - 24s 816ms/step - loss: 0.0347\n",
      "Epoch 9/10\n",
      "29/29 [==============================] - 24s 832ms/step - loss: 0.0327\n",
      "Epoch 10/10\n",
      "29/29 [==============================] - 24s 842ms/step - loss: 0.0307\n"
     ]
    }
   ],
   "source": [
    "def data_generator(batch_size=256):\n",
    "    while True:\n",
    "        x = create_batch(batch_size)\n",
    "        y = np.zeros((batch_size, 3*emb_size))\n",
    "        yield x, y\n",
    "        \n",
    "batch_size = 2048\n",
    "epochs = 10\n",
    "steps_per_epoch = int(x_train.shape[0]/batch_size)\n",
    "\n",
    "siamese_network.compile(loss=triplet_loss, optimizer=Adam())\n",
    "\n",
    "_ = siamese_network.fit(\n",
    "    data_generator(batch_size),\n",
    "    steps_per_epoch=steps_per_epoch,\n",
    "    epochs=epochs, verbose=1\n",
    "    )"
   ]
  }
 ],
 "metadata": {
  "kernelspec": {
   "display_name": "Python 3",
   "language": "python",
   "name": "python3"
  },
  "language_info": {
   "codemirror_mode": {
    "name": "ipython",
    "version": 3
   },
   "file_extension": ".py",
   "mimetype": "text/x-python",
   "name": "python",
   "nbconvert_exporter": "python",
   "pygments_lexer": "ipython3",
   "version": "3.7.6"
  }
 },
 "nbformat": 4,
 "nbformat_minor": 4
}
